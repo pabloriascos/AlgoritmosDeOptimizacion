Actividad Guiada 1 de Algoritmos de Optimizacion

Nombre: Juan Pablo Riascos Melo

https://colab.research.google.com/drive/1bmppCkA8KYLj-_e6oedSvyn6AxgJLhO3?usp=sharing

https://github.com/mi_usuario/03MAIR---Algoritmos-de-Optimizacion
